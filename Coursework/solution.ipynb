{
 "cells": [
  {
   "cell_type": "markdown",
   "metadata": {},
   "source": [
    "# PHASM501 Coursework 1 - Diffusion Solver $\\hspace{4cm}$ Liam Eloie\n",
    "\n",
    "## Part 1 - Explanation"
   ]
  },
  {
   "cell_type": "markdown",
   "metadata": {},
   "source": [
    "This notebook provides a solution to the diffusion equation,\n",
    "\n",
    "$$-\\nabla \\cdot [\\sigma(x) \\nabla u(x)] = f(x), \\text{in}\\hspace{0.1cm} \\Omega$$\n",
    "\n",
    "Subject to the boundary condition,\n",
    "$$u(x) = 0, \\text{on}\\hspace{0.1cm}\\partial \\Omega$$\n",
    "\n",
    "Where $\\Omega$ is a given domain in two dimensions, $f$ is a given function in $\\Omega$, $\\sigma$ is a scalar field that is defined over $\\Omega$ and $u$ is the wanted solution.\n"
   ]
  },
  {
   "cell_type": "markdown",
   "metadata": {},
   "source": [
    "By discretising the problem by multiplying with a test function, $v$, that satisfy the zero boundary conditions, applying Green's representation theorem, and approximating the solution of $u$ by expanding it into a linear combination of P1 basis functions, the problem boils down to solving the following system,\n",
    "\n",
    "$$\\int_\\Omega [\\sigma(\\mathbf{x})\\nabla \\psi_i(\\mathbf{x})] \\cdot \\nabla\\psi_j(\\mathbf{x}) d\\mathbf{x} = \\int_\\Omega f(\\mathbf{x})\\psi_i(\\mathbf{x}) d\\mathbf{x}$$\n",
    "\n",
    "Where the P1 basis functions are,\n",
    " $$\\psi_i(\\mathbf{x}) = \\begin{cases} \n",
    "      1 - x - y & i = 0 \\\\\n",
    "      x & i = 1 \\\\\n",
    "      y & i = 2 \n",
    "   \\end{cases}\n",
    "$$\n",
    "\n",
    "We will be working with triangular grids. To make the integration over a triangle a lot easier, we will be transformation each triangle in the grid into a right angle triangle with corners lying on the points, $(0, 0)$, $(1, 0)$, and $(0, 1)$. This simplies the P1 basis functions considerably.\n",
    "\n",
    "In order to make this transformation of basis, we must apply the following transformation,\n",
    "\n",
    "$$\\mathbf{x} = \\mathbf{x}_0 \\psi_0(\\mathbf{X}) + \\mathbf{x}_1 \\psi_1(\\mathbf{X}) + \\mathbf{x}_2 \\psi_2(\\mathbf{X})$$\n",
    "\n",
    "Where $\\mathbf{X}$ is a point on the reference triangle.\n",
    "\n",
    "This allows us to define the jacobian on the system, \n",
    "\n",
    "$$J = \\frac{\\partial x}{\\partial X}\\frac{\\partial y}{\\partial Y} - \\frac{\\partial y}{\\partial X}\\frac{\\partial x}{\\partial Y}$$\n",
    "\n",
    "such that the transformation becomes,\n",
    "\n",
    "$$g(\\mathbf{X}) = J \\mathbf{X} + \\mathbf{x}_0$$\n",
    "\n",
    "Using this information, we can transform our integration over the triangles in the grid to an integration over reference triangles to make use of the simple nature of the P1 basis functions,\n",
    "\n",
    "$$\\int_R [\\sigma(g(\\mathbf{X})) J^{-T} \\nabla\\psi_i(\\mathbf{X})] \\cdot J^{-T} \\nabla\\psi_j(\\mathbf{X}) | \\mathrm{det}(J) | d\\mathbf{X} = \\int_R f(g(\\mathbf{X}))\\psi_i(g(\\mathbf{X})) | \\mathrm{det}(J) | d\\mathbf{X}$$\n",
    "\n",
    "\n",
    "We can turn this into a matrix equation by defining \n",
    "\n",
    "$$a(u, v) = \\int_\\Omega [\\sigma(\\mathbf{x})\\nabla u(\\mathbf{x})] \\cdot \\nabla v(\\mathbf{x}) d\\mathbf{x}$$\n",
    "$$l(v) = \\int_\\Omega f(\\mathbf{x}) v(\\mathbf{x}) d\\mathbf{x}$$\n",
    "\n",
    "and it is possible to show\n",
    "$$A\\mathbf{u} = \\mathbf{b}$$\n",
    "\n",
    "where\n",
    "\n",
    "$$A_{i,j} = a(\\psi_j(\\mathbf{X}), \\psi_i(\\mathbf{X}))$$\n",
    "\n",
    "$$b_i = l(\\psi_i(\\mathbf{X}))$$\n",
    "\n",
    "The following codes solves this system by implementing that matrix equation and solving for $u(\\mathbf{x})$. \n",
    "\n",
    "$$u(\\mathbf{x}) = A^{-1}\\mathbf{b}$$\n",
    "\n",
    "To compute $a(u,v)$ and $l(v)$, we must perform an integration over triangles, T. To do this will shall use the quadrature rule. \n",
    "\n",
    "$$\\int_T f(\\mathbf{x}) d\\mathbf{x} \\approx \\frac{1}{2} A_T \\sum_{i=1}^{N_g} \\omega_i F(P(\\mathbf{X}), Q(\\mathbf{X}))$$\n",
    "\n",
    "Where the sum is over all the quadrature points, $\\omega_i$ are the weights of each point which sum to $1$, and $A_T$ is the area of each triangle in T. P and Q are the transformation from reference to global triangles."
   ]
  },
  {
   "cell_type": "markdown",
   "metadata": {},
   "source": [
    "## Part 2 - Code and Graphical Visualisations"
   ]
  },
  {
   "cell_type": "markdown",
   "metadata": {},
   "source": [
    "First, we want to define what our scalar field $\\sigma(\\mathbf{x})$ and our function $f(\\mathbf{x})$ will be."
   ]
  },
  {
   "cell_type": "code",
   "execution_count": 1,
   "metadata": {
    "collapsed": true
   },
   "outputs": [],
   "source": [
    "import numpy as np \n",
    "\n",
    "def func(x, y):\n",
    "    return 1\n",
    "\n",
    "def sigma(x, y):\n",
    "    return 1"
   ]
  },
  {
   "cell_type": "markdown",
   "metadata": {},
   "source": [
    "Next, we would like to choose the VTK file name for the grid we would like to solve the diffusion equation on. \n",
    "\n",
    "A VTK file supplies all points and cells that makes up a grid. Each cell is made up of points in the grid and have a specified cell type (1 for point, 3 for line segment, 5 for triangle etc.)\n"
   ]
  },
  {
   "cell_type": "code",
   "execution_count": 2,
   "metadata": {
    "collapsed": false
   },
   "outputs": [],
   "source": [
    "grid_dir = './example_grids/'\n",
    "grid_file_name = \"Small_Square_Triangle_Grid\""
   ]
  },
  {
   "cell_type": "markdown",
   "metadata": {},
   "source": [
    "When running the solver, we need to specify the order of the underlying quadrature rule we will be using to perform our integration over triangle elements."
   ]
  },
  {
   "cell_type": "code",
   "execution_count": 3,
   "metadata": {
    "collapsed": false
   },
   "outputs": [],
   "source": [
    "integration_order = 4"
   ]
  },
  {
   "cell_type": "markdown",
   "metadata": {},
   "source": [
    "Finally, we will insert these functions and variables into the global solver. This global solver solves our system and writes a VTK file containing details of all the points, cells, and the solution on each point."
   ]
  },
  {
   "cell_type": "code",
   "execution_count": 4,
   "metadata": {
    "collapsed": false
   },
   "outputs": [
    {
     "name": "stdout",
     "output_type": "stream",
     "text": [
      "Importing VTK file grid data.\n",
      "Setting up grid.\n",
      "Constructing system of assembly matrix and force vector.\n",
      "Solving for the solution.\n",
      "Exporting solution to a VTK file located at: ./example_grids/Small_Square_Triangle_Grid_solution.vtk\n"
     ]
    }
   ],
   "source": [
    "from source import solver\n",
    "\n",
    "solver.solve(grid_dir + grid_file_name, func, sigma, integration_order)"
   ]
  },
  {
   "cell_type": "markdown",
   "metadata": {},
   "source": [
    "Using this VTK output file for the grid and solution, we can use the Paraview software to give graphical visualisations of our solution."
   ]
  },
  {
   "cell_type": "code",
   "execution_count": 5,
   "metadata": {
    "collapsed": false
   },
   "outputs": [
    {
     "data": {
      "text/html": [
       "<table><tr><td><img src='img/diffusion_constant_bad_grid.png'></td><td><img src='img/diffusion_constant_bad.png'></td></tr></table>"
      ],
      "text/plain": [
       "<IPython.core.display.HTML object>"
      ]
     },
     "metadata": {},
     "output_type": "display_data"
    }
   ],
   "source": [
    "from IPython.display import HTML, display\n",
    "\n",
    "display(HTML(\"<table><tr><td><img src='img/diffusion_constant_bad_grid.png'></td><td><img src='img/diffusion_constant_bad.png'></td></tr></table>\"))"
   ]
  },
  {
   "cell_type": "markdown",
   "metadata": {},
   "source": [
    "If we increase the number of points and elements in a grid, the solver will return a more accurate solution. "
   ]
  },
  {
   "cell_type": "code",
   "execution_count": 6,
   "metadata": {
    "collapsed": false,
    "scrolled": true
   },
   "outputs": [
    {
     "name": "stdout",
     "output_type": "stream",
     "text": [
      "Importing VTK file grid data.\n",
      "Setting up grid.\n",
      "Constructing system of assembly matrix and force vector.\n",
      "Solving for the solution.\n",
      "Exporting solution to a VTK file located at: ./example_grids/Big_Square_Triangle_Grid_solution.vtk\n"
     ]
    }
   ],
   "source": [
    "grid_file_name = \"Big_Square_Triangle_Grid\"\n",
    "\n",
    "solver.solve(grid_dir + grid_file_name, func, sigma, integration_order)"
   ]
  },
  {
   "cell_type": "code",
   "execution_count": 7,
   "metadata": {
    "collapsed": false
   },
   "outputs": [
    {
     "data": {
      "text/html": [
       "<table><tr><td><img src='img/diffusion_constant_f_grid.png'></td><td><img src='img/diffusion_constant_f.png'></td></tr></table>"
      ],
      "text/plain": [
       "<IPython.core.display.HTML object>"
      ]
     },
     "metadata": {},
     "output_type": "display_data"
    }
   ],
   "source": [
    "display(HTML(\"<table><tr><td><img src='img/diffusion_constant_f_grid.png'></td><td><img src='img/diffusion_constant_f.png'></td></tr></table>\"))"
   ]
  },
  {
   "cell_type": "markdown",
   "metadata": {},
   "source": [
    "On the left is the solution with the overlayed on top. On the right is the solution without the grid.\n",
    "\n",
    "Since our diffusion solver is general, we can solve for more intricate systems over different shaped grids made up of a triangle mesh. Below are some systems I found to be interesting."
   ]
  },
  {
   "cell_type": "code",
   "execution_count": 8,
   "metadata": {
    "collapsed": false
   },
   "outputs": [
    {
     "name": "stdout",
     "output_type": "stream",
     "text": [
      "Importing VTK file grid data.\n",
      "Setting up grid.\n",
      "Constructing system of assembly matrix and force vector.\n",
      "Solving for the solution.\n",
      "Exporting solution to a VTK file located at: ./example_grids/Big_Square_Triangle_Grid_solution.vtk\n"
     ]
    }
   ],
   "source": [
    "def func(x, y):\n",
    "    if x > 0.15 and x < 0.25 and y > 0.15 and y < 0.25:\n",
    "        return 1\n",
    "    \n",
    "    elif x > 0.75 and x < 0.85 and y > 0.15 and y < 0.25:\n",
    "        return 1\n",
    "    \n",
    "    elif x > 0.15 and x < 0.25 and y > 0.75 and y < 0.85:\n",
    "        return 1\n",
    "    \n",
    "    elif x > 0.75 and x < 0.85 and y > 0.75 and y < 0.85:\n",
    "        return 1\n",
    "    \n",
    "    else: \n",
    "        return 0\n",
    "\n",
    "def sigma(x, y):\n",
    "    return 1\n",
    "\n",
    "grid_file_name = \"Big_Square_Triangle_Grid\"\n",
    "\n",
    "solver.solve(grid_dir + grid_file_name, func, sigma, integration_order)"
   ]
  },
  {
   "cell_type": "code",
   "execution_count": 9,
   "metadata": {
    "collapsed": false
   },
   "outputs": [
    {
     "data": {
      "text/html": [
       "<table><tr><td><img src='img/interesting_solution_1_grid.png'></td><td><img src='img/interesting_solution_1.png'></td></tr></table>"
      ],
      "text/plain": [
       "<IPython.core.display.HTML object>"
      ]
     },
     "metadata": {},
     "output_type": "display_data"
    }
   ],
   "source": [
    "display(HTML(\"<table><tr><td><img src='img/interesting_solution_1_grid.png'></td><td><img src='img/interesting_solution_1.png'></td></tr></table>\"))"
   ]
  },
  {
   "cell_type": "markdown",
   "metadata": {
    "collapsed": true
   },
   "source": [
    "This solution represents the diffusion when the function on the right-hand side of the equation is instantiated at four distinct points on the grid. This is the kind of pattern we would expect since the instantiation, grid, and boundary conditions are symmetric."
   ]
  },
  {
   "cell_type": "markdown",
   "metadata": {},
   "source": [
    "We are not only limited to square grid. The next example demonstrates the versatility of our solver."
   ]
  },
  {
   "cell_type": "code",
   "execution_count": 10,
   "metadata": {
    "collapsed": false
   },
   "outputs": [
    {
     "name": "stdout",
     "output_type": "stream",
     "text": [
      "Importing VTK file grid data.\n",
      "Setting up grid.\n",
      "Constructing system of assembly matrix and force vector.\n",
      "Solving for the solution.\n",
      "Exporting solution to a VTK file located at: ./example_grids/Big_Weird_Grid_solution.vtk\n"
     ]
    }
   ],
   "source": [
    "grid_file_name = \"Big_Weird_Grid\"\n",
    "\n",
    "def func(x, y):\n",
    "    return 1\n",
    "\n",
    "solver.solve(grid_dir + grid_file_name, func, sigma, integration_order)"
   ]
  },
  {
   "cell_type": "code",
   "execution_count": 11,
   "metadata": {
    "collapsed": false
   },
   "outputs": [
    {
     "data": {
      "text/html": [
       "<table><tr><td><img src='img/diffusion_weird_solution_grid.png'></td><td><img src='img/diffusion_weird_solution.png'></td></tr></table>"
      ],
      "text/plain": [
       "<IPython.core.display.HTML object>"
      ]
     },
     "metadata": {},
     "output_type": "display_data"
    }
   ],
   "source": [
    "display(HTML(\"<table><tr><td><img src='img/diffusion_weird_solution_grid.png'></td><td><img src='img/diffusion_weird_solution.png'></td></tr></table>\"))"
   ]
  }
 ],
 "metadata": {
  "anaconda-cloud": {},
  "kernelspec": {
   "display_name": "Python [default]",
   "language": "python",
   "name": "python2"
  },
  "language_info": {
   "codemirror_mode": {
    "name": "ipython",
    "version": 2
   },
   "file_extension": ".py",
   "mimetype": "text/x-python",
   "name": "python",
   "nbconvert_exporter": "python",
   "pygments_lexer": "ipython2",
   "version": "2.7.12"
  }
 },
 "nbformat": 4,
 "nbformat_minor": 0
}
